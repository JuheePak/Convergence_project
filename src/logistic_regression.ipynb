{
 "cells": [
  {
   "cell_type": "markdown",
   "metadata": {},
   "source": [
    "### Logistic Regression"
   ]
  },
  {
   "cell_type": "markdown",
   "metadata": {},
   "source": [
    "### 연속형 자료인 기후 데이터와 범주형 데이터인 화재 결과(0과 1)의 관계 분석하기"
   ]
  },
  {
   "cell_type": "markdown",
   "metadata": {},
   "source": [
    "### 독립변수와 종속변수 분리하고, 학습 데이터와 예측 데이터를 나눈다."
   ]
  },
  {
   "cell_type": "code",
   "execution_count": 3,
   "metadata": {},
   "outputs": [],
   "source": [
    "import pandas as pd\n",
    "import numpy as np"
   ]
  },
  {
   "cell_type": "code",
   "execution_count": 32,
   "metadata": {},
   "outputs": [
    {
     "data": {
      "text/html": [
       "<div>\n",
       "<style scoped>\n",
       "    .dataframe tbody tr th:only-of-type {\n",
       "        vertical-align: middle;\n",
       "    }\n",
       "\n",
       "    .dataframe tbody tr th {\n",
       "        vertical-align: top;\n",
       "    }\n",
       "\n",
       "    .dataframe thead th {\n",
       "        text-align: right;\n",
       "    }\n",
       "</style>\n",
       "<table border=\"1\" class=\"dataframe\">\n",
       "  <thead>\n",
       "    <tr style=\"text-align: right;\">\n",
       "      <th></th>\n",
       "      <th>주소</th>\n",
       "      <th>강수</th>\n",
       "      <th>강수형태</th>\n",
       "      <th>기온</th>\n",
       "      <th>뇌전</th>\n",
       "      <th>습도</th>\n",
       "      <th>풍속</th>\n",
       "      <th>풍향</th>\n",
       "      <th>하늘상태</th>\n",
       "      <th>화재발생</th>\n",
       "    </tr>\n",
       "  </thead>\n",
       "  <tbody>\n",
       "    <tr>\n",
       "      <th>0</th>\n",
       "      <td>전라남도 영광군 낙월면</td>\n",
       "      <td>0.0</td>\n",
       "      <td>0.0</td>\n",
       "      <td>4.6</td>\n",
       "      <td>-1.0</td>\n",
       "      <td>89.0</td>\n",
       "      <td>0.6</td>\n",
       "      <td>270.0</td>\n",
       "      <td>-1</td>\n",
       "      <td>0</td>\n",
       "    </tr>\n",
       "    <tr>\n",
       "      <th>1</th>\n",
       "      <td>전라남도 영광군 낙월면</td>\n",
       "      <td>0.0</td>\n",
       "      <td>0.0</td>\n",
       "      <td>5.2</td>\n",
       "      <td>-1.0</td>\n",
       "      <td>81.0</td>\n",
       "      <td>1.2</td>\n",
       "      <td>277.0</td>\n",
       "      <td>-1</td>\n",
       "      <td>0</td>\n",
       "    </tr>\n",
       "    <tr>\n",
       "      <th>2</th>\n",
       "      <td>전라남도 영광군 낙월면</td>\n",
       "      <td>0.0</td>\n",
       "      <td>0.0</td>\n",
       "      <td>5.4</td>\n",
       "      <td>-1.0</td>\n",
       "      <td>74.0</td>\n",
       "      <td>1.5</td>\n",
       "      <td>266.0</td>\n",
       "      <td>-1</td>\n",
       "      <td>0</td>\n",
       "    </tr>\n",
       "    <tr>\n",
       "      <th>3</th>\n",
       "      <td>전라남도 영광군 낙월면</td>\n",
       "      <td>0.0</td>\n",
       "      <td>0.0</td>\n",
       "      <td>5.4</td>\n",
       "      <td>-1.0</td>\n",
       "      <td>77.0</td>\n",
       "      <td>1.5</td>\n",
       "      <td>276.0</td>\n",
       "      <td>-1</td>\n",
       "      <td>0</td>\n",
       "    </tr>\n",
       "    <tr>\n",
       "      <th>4</th>\n",
       "      <td>전라남도 영광군 낙월면</td>\n",
       "      <td>0.0</td>\n",
       "      <td>0.0</td>\n",
       "      <td>5.2</td>\n",
       "      <td>-1.0</td>\n",
       "      <td>75.0</td>\n",
       "      <td>0.4</td>\n",
       "      <td>222.0</td>\n",
       "      <td>-1</td>\n",
       "      <td>0</td>\n",
       "    </tr>\n",
       "  </tbody>\n",
       "</table>\n",
       "</div>"
      ],
      "text/plain": [
       "             주소   강수  강수형태   기온   뇌전    습도   풍속     풍향  하늘상태  화재발생\n",
       "0  전라남도 영광군 낙월면  0.0   0.0  4.6 -1.0  89.0  0.6  270.0    -1     0\n",
       "1  전라남도 영광군 낙월면  0.0   0.0  5.2 -1.0  81.0  1.2  277.0    -1     0\n",
       "2  전라남도 영광군 낙월면  0.0   0.0  5.4 -1.0  74.0  1.5  266.0    -1     0\n",
       "3  전라남도 영광군 낙월면  0.0   0.0  5.4 -1.0  77.0  1.5  276.0    -1     0\n",
       "4  전라남도 영광군 낙월면  0.0   0.0  5.2 -1.0  75.0  0.4  222.0    -1     0"
      ]
     },
     "metadata": {},
     "output_type": "display_data"
    }
   ],
   "source": [
    "df = pd.read_excel('./for_regression.xlsx')\n",
    "display(df.head())"
   ]
  },
  {
   "cell_type": "code",
   "execution_count": 33,
   "metadata": {},
   "outputs": [
    {
     "data": {
      "text/plain": [
       "0       -1\n",
       "1       -1\n",
       "2       -1\n",
       "3       -1\n",
       "4       -1\n",
       "        ..\n",
       "69401   -1\n",
       "69402   -1\n",
       "69403   -1\n",
       "69404   -1\n",
       "69405   -1\n",
       "Name: 하늘상태, Length: 69406, dtype: int32"
      ]
     },
     "execution_count": 33,
     "metadata": {},
     "output_type": "execute_result"
    }
   ],
   "source": [
    "df['하늘상태'].astype(int)"
   ]
  },
  {
   "cell_type": "code",
   "execution_count": 34,
   "metadata": {},
   "outputs": [
    {
     "name": "stdout",
     "output_type": "stream",
     "text": [
      "<class 'pandas.core.frame.DataFrame'>\n",
      "RangeIndex: 69406 entries, 0 to 69405\n",
      "Data columns (total 10 columns):\n",
      " #   Column  Non-Null Count  Dtype  \n",
      "---  ------  --------------  -----  \n",
      " 0   주소      69406 non-null  object \n",
      " 1   강수      69406 non-null  float64\n",
      " 2   강수형태    69406 non-null  float64\n",
      " 3   기온      69406 non-null  float64\n",
      " 4   뇌전      69406 non-null  float64\n",
      " 5   습도      69406 non-null  float64\n",
      " 6   풍속      69406 non-null  float64\n",
      " 7   풍향      69406 non-null  float64\n",
      " 8   하늘상태    69406 non-null  int64  \n",
      " 9   화재발생    69406 non-null  int64  \n",
      "dtypes: float64(7), int64(2), object(1)\n",
      "memory usage: 5.3+ MB\n"
     ]
    }
   ],
   "source": [
    "df.info()"
   ]
  },
  {
   "cell_type": "code",
   "execution_count": 35,
   "metadata": {},
   "outputs": [
    {
     "name": "stdout",
     "output_type": "stream",
     "text": [
      "52054\n",
      "17352\n",
      "52054\n",
      "17352\n"
     ]
    }
   ],
   "source": [
    "from sklearn.model_selection import train_test_split\n",
    " \n",
    "# x(독립변수) y(종속 변수) 분리\n",
    "x = df.loc[:, '강수':'하늘상태']\n",
    "y = df['화재발생']\n",
    "\n",
    "x_train, x_test, y_train, y_test = train_test_split(x, y, test_size=0.25, random_state=0)\n",
    "print(len(x_train))\n",
    "print(len(x_test))\n",
    "print(len(y_train))\n",
    "print(len(y_test))"
   ]
  },
  {
   "cell_type": "markdown",
   "metadata": {},
   "source": [
    "### p-value를 확인"
   ]
  },
  {
   "cell_type": "code",
   "execution_count": 36,
   "metadata": {},
   "outputs": [
    {
     "name": "stdout",
     "output_type": "stream",
     "text": [
      "                            OLS Regression Results                            \n",
      "==============================================================================\n",
      "Dep. Variable:                   화재발생   R-squared:                       0.077\n",
      "Model:                            OLS   Adj. R-squared:                  0.077\n",
      "Method:                 Least Squares   F-statistic:                     829.0\n",
      "Date:                Tue, 15 Dec 2020   Prob (F-statistic):               0.00\n",
      "Time:                        10:56:16   Log-Likelihood:                -46944.\n",
      "No. Observations:               69406   AIC:                         9.390e+04\n",
      "Df Residuals:                   69398   BIC:                         9.398e+04\n",
      "Df Model:                           7                                         \n",
      "Covariance Type:            nonrobust                                         \n",
      "==============================================================================\n",
      "                 coef    std err          t      P>|t|      [0.025      0.975]\n",
      "------------------------------------------------------------------------------\n",
      "강수             0.0128      0.002      5.429      0.000       0.008       0.017\n",
      "강수형태           0.0250      0.007      3.380      0.001       0.011       0.040\n",
      "기온            -0.0039      0.000    -18.775      0.000      -0.004      -0.003\n",
      "뇌전             0.0354      0.003     12.576      0.000       0.030       0.041\n",
      "습도            -0.0069   9.99e-05    -68.792      0.000      -0.007      -0.007\n",
      "풍속            -0.0125      0.001    -17.063      0.000      -0.014      -0.011\n",
      "풍향            -0.0003   1.82e-05    -15.000      0.000      -0.000      -0.000\n",
      "하늘상태          -1.1975      0.009   -128.480      0.000      -1.216      -1.179\n",
      "==============================================================================\n",
      "Omnibus:                   338425.844   Durbin-Watson:                   0.066\n",
      "Prob(Omnibus):                  0.000   Jarque-Bera (JB):             8226.857\n",
      "Skew:                          -0.259   Prob(JB):                         0.00\n",
      "Kurtosis:                       1.395   Cond. No.                     1.14e+03\n",
      "==============================================================================\n",
      "\n",
      "Notes:\n",
      "[1] Standard Errors assume that the covariance matrix of the errors is correctly specified.\n",
      "[2] The condition number is large, 1.14e+03. This might indicate that there are\n",
      "strong multicollinearity or other numerical problems.\n",
      "정확도 : 0.68067081604426\n"
     ]
    },
    {
     "name": "stderr",
     "output_type": "stream",
     "text": [
      "C:\\Users\\juhee\\anaconda3\\envs\\pydatavenv\\lib\\site-packages\\sklearn\\linear_model\\_logistic.py:764: ConvergenceWarning: lbfgs failed to converge (status=1):\n",
      "STOP: TOTAL NO. of ITERATIONS REACHED LIMIT.\n",
      "\n",
      "Increase the number of iterations (max_iter) or scale the data as shown in:\n",
      "    https://scikit-learn.org/stable/modules/preprocessing.html\n",
      "Please also refer to the documentation for alternative solver options:\n",
      "    https://scikit-learn.org/stable/modules/linear_model.html#logistic-regression\n",
      "  extra_warning_msg=_LOGISTIC_SOLVER_CONVERGENCE_MSG)\n"
     ]
    }
   ],
   "source": [
    "from sklearn.linear_model import LogisticRegression\n",
    "from sklearn import metrics\n",
    "import statsmodels.api as sm\n",
    " \n",
    "log_reg = LogisticRegression()\n",
    "log_reg.fit(x_train, y_train)\n",
    "\n",
    "x2 = sm.add_constant(x)\n",
    "model = sm.OLS(y, x2)\n",
    "result = model.fit()\n",
    "print(result.summary())\n",
    "\n",
    "y_pred = log_reg.predict(x_test)\n",
    "#print(y_pred)\n",
    "#print(list(y_test))\n",
    "\n",
    "print('정확도 :', metrics.accuracy_score(y_test, y_pred))"
   ]
  },
  {
   "cell_type": "code",
   "execution_count": 37,
   "metadata": {},
   "outputs": [
    {
     "data": {
      "text/html": [
       "<div>\n",
       "<style scoped>\n",
       "    .dataframe tbody tr th:only-of-type {\n",
       "        vertical-align: middle;\n",
       "    }\n",
       "\n",
       "    .dataframe tbody tr th {\n",
       "        vertical-align: top;\n",
       "    }\n",
       "\n",
       "    .dataframe thead th {\n",
       "        text-align: right;\n",
       "    }\n",
       "</style>\n",
       "<table border=\"1\" class=\"dataframe\">\n",
       "  <thead>\n",
       "    <tr style=\"text-align: right;\">\n",
       "      <th></th>\n",
       "      <th>VIF Factor</th>\n",
       "      <th>features</th>\n",
       "    </tr>\n",
       "  </thead>\n",
       "  <tbody>\n",
       "    <tr>\n",
       "      <th>0</th>\n",
       "      <td>1.196750</td>\n",
       "      <td>강수</td>\n",
       "    </tr>\n",
       "    <tr>\n",
       "      <th>1</th>\n",
       "      <td>1.330763</td>\n",
       "      <td>강수형태</td>\n",
       "    </tr>\n",
       "    <tr>\n",
       "      <th>2</th>\n",
       "      <td>1.034570</td>\n",
       "      <td>기온</td>\n",
       "    </tr>\n",
       "    <tr>\n",
       "      <th>3</th>\n",
       "      <td>2.589174</td>\n",
       "      <td>뇌전</td>\n",
       "    </tr>\n",
       "    <tr>\n",
       "      <th>4</th>\n",
       "      <td>1.146645</td>\n",
       "      <td>습도</td>\n",
       "    </tr>\n",
       "    <tr>\n",
       "      <th>5</th>\n",
       "      <td>2.474701</td>\n",
       "      <td>풍속</td>\n",
       "    </tr>\n",
       "    <tr>\n",
       "      <th>6</th>\n",
       "      <td>1.039535</td>\n",
       "      <td>풍향</td>\n",
       "    </tr>\n",
       "    <tr>\n",
       "      <th>7</th>\n",
       "      <td>26.621412</td>\n",
       "      <td>하늘상태</td>\n",
       "    </tr>\n",
       "  </tbody>\n",
       "</table>\n",
       "</div>"
      ],
      "text/plain": [
       "   VIF Factor features\n",
       "0    1.196750       강수\n",
       "1    1.330763     강수형태\n",
       "2    1.034570       기온\n",
       "3    2.589174       뇌전\n",
       "4    1.146645       습도\n",
       "5    2.474701       풍속\n",
       "6    1.039535       풍향\n",
       "7   26.621412     하늘상태"
      ]
     },
     "execution_count": 37,
     "metadata": {},
     "output_type": "execute_result"
    }
   ],
   "source": [
    "from statsmodels.stats.outliers_influence import variance_inflation_factor\n",
    "\n",
    "# VIF사용을 위한 라이브러리, statsmodels안에 존재한다.\n",
    "# 사실 모든 통계기법이 statsmodels 모듈에 존재하여 \n",
    "# 이 중에 필요한 통계기법을 찾아 import를 진행하면 된다.\n",
    "# 10이상의 VIF factor는 VIF가 10보다 크면 다중공선성이 있다고 판단\n",
    "# 하늘상태에서 강한 다중공선성을 확인할 수 있었음.\n",
    "\n",
    "vif = pd.DataFrame()\n",
    "vif[\"VIF Factor\"] = [variance_inflation_factor(x2.values, i) for i in range(x2.shape[1])]\n",
    "vif[\"features\"] = x2.columns\n",
    "vif"
   ]
  },
  {
   "cell_type": "markdown",
   "metadata": {},
   "source": [
    "#### p-value값은 정규성 검증을 위해 사용되는 수치이다. P값은 아무런 관련이 없는데 유의미하게 나올 확률을 뜻한다. \n",
    "#### 즉, P값이 0.01이라면, 관련이 없는데 유의미하게 나올 확율이 1프로로 합리적인 변수로 판단할 수 있다. \n",
    "#### 눈으로 확인하기 쉽게 위 요약내용에서 P값이 0.05이하인 변수들 5개로만 학습을 시킨 모델과, P값이 1에 가까운 변수들로 합습을 시켜 정확도를 비교한다."
   ]
  },
  {
   "cell_type": "markdown",
   "metadata": {},
   "source": [
    "#### p값 < 0.05 학습모델\n",
    "#### 기존에 모든 독립변수를 학습시켰다면 이번에는 p값이 0.05보다 작은 변수들로만 학습을 진행시켜 히트맵과 정확도를 확인한다."
   ]
  },
  {
   "cell_type": "code",
   "execution_count": 38,
   "metadata": {},
   "outputs": [
    {
     "data": {
      "text/html": [
       "<div>\n",
       "<style scoped>\n",
       "    .dataframe tbody tr th:only-of-type {\n",
       "        vertical-align: middle;\n",
       "    }\n",
       "\n",
       "    .dataframe tbody tr th {\n",
       "        vertical-align: top;\n",
       "    }\n",
       "\n",
       "    .dataframe thead th {\n",
       "        text-align: right;\n",
       "    }\n",
       "</style>\n",
       "<table border=\"1\" class=\"dataframe\">\n",
       "  <thead>\n",
       "    <tr style=\"text-align: right;\">\n",
       "      <th></th>\n",
       "      <th>강수</th>\n",
       "      <th>강수형태</th>\n",
       "      <th>기온</th>\n",
       "      <th>뇌전</th>\n",
       "      <th>습도</th>\n",
       "      <th>풍속</th>\n",
       "      <th>풍향</th>\n",
       "      <th>화재발생</th>\n",
       "    </tr>\n",
       "  </thead>\n",
       "  <tbody>\n",
       "    <tr>\n",
       "      <th>강수</th>\n",
       "      <td>1.000000</td>\n",
       "      <td>0.368079</td>\n",
       "      <td>0.083165</td>\n",
       "      <td>-0.007826</td>\n",
       "      <td>0.154659</td>\n",
       "      <td>0.008936</td>\n",
       "      <td>-0.036569</td>\n",
       "      <td>-0.019855</td>\n",
       "    </tr>\n",
       "    <tr>\n",
       "      <th>강수형태</th>\n",
       "      <td>0.368079</td>\n",
       "      <td>1.000000</td>\n",
       "      <td>0.019993</td>\n",
       "      <td>0.298438</td>\n",
       "      <td>0.172791</td>\n",
       "      <td>0.181830</td>\n",
       "      <td>-0.044295</td>\n",
       "      <td>-0.018920</td>\n",
       "    </tr>\n",
       "    <tr>\n",
       "      <th>기온</th>\n",
       "      <td>0.083165</td>\n",
       "      <td>0.019993</td>\n",
       "      <td>1.000000</td>\n",
       "      <td>-0.029902</td>\n",
       "      <td>0.151590</td>\n",
       "      <td>-0.002362</td>\n",
       "      <td>0.028547</td>\n",
       "      <td>-0.111840</td>\n",
       "    </tr>\n",
       "    <tr>\n",
       "      <th>뇌전</th>\n",
       "      <td>-0.007826</td>\n",
       "      <td>0.298438</td>\n",
       "      <td>-0.029902</td>\n",
       "      <td>1.000000</td>\n",
       "      <td>-0.069852</td>\n",
       "      <td>0.759199</td>\n",
       "      <td>-0.034812</td>\n",
       "      <td>0.026340</td>\n",
       "    </tr>\n",
       "    <tr>\n",
       "      <th>습도</th>\n",
       "      <td>0.154659</td>\n",
       "      <td>0.172791</td>\n",
       "      <td>0.151590</td>\n",
       "      <td>-0.069852</td>\n",
       "      <td>1.000000</td>\n",
       "      <td>-0.172913</td>\n",
       "      <td>-0.172612</td>\n",
       "      <td>-0.251972</td>\n",
       "    </tr>\n",
       "    <tr>\n",
       "      <th>풍속</th>\n",
       "      <td>0.008936</td>\n",
       "      <td>0.181830</td>\n",
       "      <td>-0.002362</td>\n",
       "      <td>0.759199</td>\n",
       "      <td>-0.172913</td>\n",
       "      <td>1.000000</td>\n",
       "      <td>0.030201</td>\n",
       "      <td>0.005847</td>\n",
       "    </tr>\n",
       "    <tr>\n",
       "      <th>풍향</th>\n",
       "      <td>-0.036569</td>\n",
       "      <td>-0.044295</td>\n",
       "      <td>0.028547</td>\n",
       "      <td>-0.034812</td>\n",
       "      <td>-0.172612</td>\n",
       "      <td>0.030201</td>\n",
       "      <td>1.000000</td>\n",
       "      <td>-0.018338</td>\n",
       "    </tr>\n",
       "    <tr>\n",
       "      <th>화재발생</th>\n",
       "      <td>-0.019855</td>\n",
       "      <td>-0.018920</td>\n",
       "      <td>-0.111840</td>\n",
       "      <td>0.026340</td>\n",
       "      <td>-0.251972</td>\n",
       "      <td>0.005847</td>\n",
       "      <td>-0.018338</td>\n",
       "      <td>1.000000</td>\n",
       "    </tr>\n",
       "  </tbody>\n",
       "</table>\n",
       "</div>"
      ],
      "text/plain": [
       "            강수      강수형태        기온        뇌전        습도        풍속        풍향  \\\n",
       "강수    1.000000  0.368079  0.083165 -0.007826  0.154659  0.008936 -0.036569   \n",
       "강수형태  0.368079  1.000000  0.019993  0.298438  0.172791  0.181830 -0.044295   \n",
       "기온    0.083165  0.019993  1.000000 -0.029902  0.151590 -0.002362  0.028547   \n",
       "뇌전   -0.007826  0.298438 -0.029902  1.000000 -0.069852  0.759199 -0.034812   \n",
       "습도    0.154659  0.172791  0.151590 -0.069852  1.000000 -0.172913 -0.172612   \n",
       "풍속    0.008936  0.181830 -0.002362  0.759199 -0.172913  1.000000  0.030201   \n",
       "풍향   -0.036569 -0.044295  0.028547 -0.034812 -0.172612  0.030201  1.000000   \n",
       "화재발생 -0.019855 -0.018920 -0.111840  0.026340 -0.251972  0.005847 -0.018338   \n",
       "\n",
       "          화재발생  \n",
       "강수   -0.019855  \n",
       "강수형태 -0.018920  \n",
       "기온   -0.111840  \n",
       "뇌전    0.026340  \n",
       "습도   -0.251972  \n",
       "풍속    0.005847  \n",
       "풍향   -0.018338  \n",
       "화재발생  1.000000  "
      ]
     },
     "execution_count": 38,
     "metadata": {},
     "output_type": "execute_result"
    }
   ],
   "source": [
    "df1.corr(method='pearson')"
   ]
  },
  {
   "cell_type": "code",
   "execution_count": 20,
   "metadata": {},
   "outputs": [],
   "source": [
    "import pandas as pd\n",
    "import numpy as np\n",
    "import matplotlib.pyplot as plt\n",
    "from matplotlib import font_manager, rc\n",
    "import seaborn as sns"
   ]
  },
  {
   "cell_type": "code",
   "execution_count": 24,
   "metadata": {},
   "outputs": [],
   "source": [
    "df1 = df.drop(df.columns[[8]], axis=1)"
   ]
  },
  {
   "cell_type": "code",
   "execution_count": 26,
   "metadata": {},
   "outputs": [
    {
     "name": "stdout",
     "output_type": "stream",
     "text": [
      "['210 MGothic']\n"
     ]
    },
    {
     "name": "stderr",
     "output_type": "stream",
     "text": [
      "Matplotlib is building the font cache; this may take a moment.\n"
     ]
    }
   ],
   "source": [
    "from matplotlib import font_manager, rc\n",
    "import matplotlib.pyplot as plt\n",
    "import matplotlib\n",
    "font_path = \"data/210 M고딕040.ttf\"\n",
    "font_name = font_manager.FontProperties(fname=font_path).get_name()\n",
    "plt.rc('font', family=font_name)\n",
    "print(plt.rcParams['font.family'])\n",
    "matplotlib.font_manager._rebuild()\n",
    "matplotlib.rcParams['axes.unicode_minus'] = False"
   ]
  },
  {
   "cell_type": "code",
   "execution_count": 40,
   "metadata": {},
   "outputs": [
    {
     "data": {
      "image/png": "[encoded data removed]",
      "text/plain": [
       "<Figure size 720x648 with 2 Axes>"
      ]
     },
     "metadata": {
      "needs_background": "light"
     },
     "output_type": "display_data"
    }
   ],
   "source": [
    "plt.figure(figsize=(10, 9))\n",
    "plt.rc('font', size = 15)\n",
    "\n",
    "mask = np.zeros_like(df1.corr())\n",
    "mask[np.triu_indices_from(mask)] = True\n",
    "plt.rcParams[\"figure.figsize\"] = (10,6) # 그림 크기 조정\n",
    "sns.heatmap(data = df1.corr(), mask=mask, annot=True, fmt = '.2f', linewidths=0, cmap='Greens')\n",
    "plt.savefig(\"data/heatmap.png\")"
   ]
  },
  {
   "cell_type": "code",
   "execution_count": 39,
   "metadata": {},
   "outputs": [
    {
     "data": {
      "image/png": "[encoded data removed]",
      "text/plain": [
       "<Figure size 1440x1440 with 72 Axes>"
      ]
     },
     "metadata": {
      "needs_background": "light"
     },
     "output_type": "display_data"
    }
   ],
   "source": [
    "sns.pairplot(df1.corr(method='pearson'))\n",
    "plt.savefig(\"data/corr1.png\")\n",
    "plt.show()"
   ]
  },
  {
   "cell_type": "code",
   "execution_count": null,
   "metadata": {},
   "outputs": [],
   "source": []
  },
  {
   "cell_type": "code",
   "execution_count": null,
   "metadata": {},
   "outputs": [],
   "source": []
  },
  {
   "cell_type": "code",
   "execution_count": null,
   "metadata": {},
   "outputs": [],
   "source": []
  },
  {
   "cell_type": "code",
   "execution_count": null,
   "metadata": {},
   "outputs": [],
   "source": []
  }
 ],
 "metadata": {
  "kernelspec": {
   "display_name": "pydatavenv",
   "language": "python",
   "name": "pydatavenv"
  },
  "language_info": {
   "codemirror_mode": {
    "name": "ipython",
    "version": 3
   },
   "file_extension": ".py",
   "mimetype": "text/x-python",
   "name": "python",
   "nbconvert_exporter": "python",
   "pygments_lexer": "ipython3",
   "version": "3.7.9"
  }
 },
 "nbformat": 4,
 "nbformat_minor": 4
}
