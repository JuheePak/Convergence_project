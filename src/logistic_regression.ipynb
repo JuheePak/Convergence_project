{
 "cells": [
  {
   "cell_type": "markdown",
   "metadata": {},
   "source": [
    "### Logistic Regression"
   ]
  },
  {
   "cell_type": "markdown",
   "metadata": {},
   "source": [
    "### 연속형 자료인 기후 데이터와 범주형 데이터인 화재 결과(0과 1)의 관계 분석하기"
   ]
  },
  {
   "cell_type": "markdown",
   "metadata": {},
   "source": [
    "### 독립변수와 종속변수 분리하고, 학습 데이터와 예측 데이터를 나눈다."
   ]
  },
  {
   "cell_type": "code",
   "execution_count": null,
   "metadata": {},
   "outputs": [],
   "source": [
    "from sklearn.model_selection import train_test_split\n",
    " \n",
    "# x(독립변수) y(종속 변수) 분리\n",
    "    x = data.loc[:, 'mean radius':'worst fractal dimension']\n",
    "    y = data['class']\n",
    " \n",
    "    x_train, x_test, y_train, y_test = train_test_split(x, y, test_size=0.25, random_state=0)\n",
    "    print(len(x_train))\n",
    "    print(len(x_test))\n",
    "    print(len(y_train))\n",
    "    print(len(y_test))"
   ]
  },
  {
   "cell_type": "markdown",
   "metadata": {},
   "source": [
    "### p-value를 확인"
   ]
  },
  {
   "cell_type": "code",
   "execution_count": null,
   "metadata": {},
   "outputs": [],
   "source": [
    "from sklearn.linear_model import LogisticRegression\n",
    "from sklearn import metrics\n",
    "import statsmodels.api as sm\n",
    " \n",
    "log_reg = LogisticRegression()\n",
    "    log_reg.fit(x_train, y_train)\n",
    " \n",
    "    x2 = sm.add_constant(x)\n",
    "    model = sm.OLS(y, x2)\n",
    "    result = model.fit()\n",
    "    print(result.summary())\n",
    " \n",
    "    y_pred = log_reg.predict(x_test)\n",
    "    print(y_pred)\n",
    "    print(list(y_test))\n",
    " \n",
    "    print('정확도 :', metrics.accuracy_score(y_test, y_pred))"
   ]
  },
  {
   "cell_type": "markdown",
   "metadata": {},
   "source": [
    "#### p-value값은 정규성 검증을 위해 사용되는 수치이다. P값은 아무런 관련이 없는데 유의미하게 나올 확률을 뜻한다. \n",
    "#### 즉, P값이 0.01이라면, 관련이 없는데 유의미하게 나올 확율이 1프로로 합리적인 변수로 판단할 수 있다. \n",
    "#### 눈으로 확인하기 쉽게 위 요약내용에서 P값이 0.05이하인 변수들 5개로만 학습을 시킨 모델과, P값이 1에 가까운 변수들로 합습을 시켜 정확도를 비교한다."
   ]
  },
  {
   "cell_type": "markdown",
   "metadata": {},
   "source": [
    "#### p값 < 0.05 학습모델\n",
    "#### 기존에 모든 독립변수를 학습시켰다면 이번에는 p값이 0.05보다 작은 변수들로만 학습을 진행시켜 히트맵과 정확도를 확인한다."
   ]
  },
  {
   "cell_type": "code",
   "execution_count": null,
   "metadata": {},
   "outputs": [],
   "source": [
    "sns.heatmap(pd.DataFrame(cnf_metrix), annot=True, cmap='YlGnBu', fmt='g')\n",
    "    ax.xaxis.set_label_position(\"top\")\n",
    "    plt.tight_layout()\n",
    "    plt.title(\"Confusion matrix\", y=1.1)\n",
    "    plt.ylabel(\"Actual label\")\n",
    "    plt.xlabel(\"Predict label\")\n",
    "    plt.show()"
   ]
  },
  {
   "cell_type": "code",
   "execution_count": null,
   "metadata": {},
   "outputs": [],
   "source": []
  }
 ],
 "metadata": {
  "kernelspec": {
   "display_name": "pydatavenv",
   "language": "python",
   "name": "pydatavenv"
  },
  "language_info": {
   "codemirror_mode": {
    "name": "ipython",
    "version": 3
   },
   "file_extension": ".py",
   "mimetype": "text/x-python",
   "name": "python",
   "nbconvert_exporter": "python",
   "pygments_lexer": "ipython3",
   "version": "3.7.9"
  }
 },
 "nbformat": 4,
 "nbformat_minor": 4
}
